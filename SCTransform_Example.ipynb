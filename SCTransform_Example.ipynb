{
 "cells": [
  {
   "cell_type": "markdown",
   "id": "approximate-swiss",
   "metadata": {},
   "source": [
    "## Imports"
   ]
  },
  {
   "cell_type": "code",
   "execution_count": 28,
   "id": "measured-tuition",
   "metadata": {},
   "outputs": [],
   "source": [
    "from SCTransform import SCTransform\n",
    "import scanpy as sc\n",
    "import matplotlib.pyplot as plt\n",
    "import numpy as np"
   ]
  },
  {
   "cell_type": "markdown",
   "id": "satellite-newport",
   "metadata": {},
   "source": [
    "## Load data"
   ]
  },
  {
   "cell_type": "code",
   "execution_count": 29,
   "id": "thick-applicant",
   "metadata": {},
   "outputs": [],
   "source": [
    "adata = sc.datasets.pbmc3k()\n",
    "#adata = sc.read_h5ad('../data/pbmc_33k.h5ad')"
   ]
  },
  {
   "cell_type": "markdown",
   "id": "gorgeous-melissa",
   "metadata": {},
   "source": [
    "## Run SCTransform"
   ]
  },
  {
   "cell_type": "code",
   "execution_count": null,
   "id": "aerial-joseph",
   "metadata": {},
   "outputs": [],
   "source": [
    "%%time\n",
    "adata_sct = SCTransform(adata,\n",
    "                        min_cells=5,\n",
    "                        gmean_eps=1,\n",
    "                        n_genes=2000,\n",
    "                        n_cells=None, #use all cells\n",
    "                        bin_size=500,\n",
    "                        bw_adjust=3,\n",
    "                        inplace=False)"
   ]
  },
  {
   "cell_type": "markdown",
   "id": "unknown-discussion",
   "metadata": {},
   "source": [
    "## Plot the fit parameters"
   ]
  },
  {
   "cell_type": "code",
   "execution_count": null,
   "id": "empirical-salmon",
   "metadata": {},
   "outputs": [],
   "source": [
    "# Pull out the fit parameters (both step1 and extrapolated)\n",
    "intercept1 = adata_sct.var['Intercept_step1_sct'].values\n",
    "filt = np.invert(np.isnan(intercept1))\n",
    "\n",
    "gmean = 10**adata_sct.var['log10_gmean_sct'].values\n",
    "gmean1 = gmean[filt]\n",
    "intercept1 = intercept1[filt]\n",
    "\n",
    "intercept = adata_sct.var['Intercept_sct'].values\n",
    "logumi = adata_sct.var['log_umi_sct'].values\n",
    "logumi1 = adata_sct.var['log_umi_step1_sct'].values[filt]\n",
    "theta = adata_sct.var['theta_sct'].values\n",
    "theta1 = adata_sct.var['dispersion_step1_sct'].values[filt]\n",
    "theta1 = gmean1 / (10**theta1 - 1)\n",
    "\n",
    "# Do the plotting\n",
    "fig,axs = plt.subplots(nrows=3,ncols=1)\n",
    "fig.set_size_inches((5,12))\n",
    "ax=axs[0]\n",
    "ax.scatter(gmean1,intercept1,color='k'); \n",
    "ax.scatter(gmean,intercept,color='pink',s=5);\n",
    "ax.set_ylabel('Fit parameter for intercept')\n",
    "ax.set_xscale('log')\n",
    "\n",
    "ax=axs[1]\n",
    "ax.scatter(gmean1,logumi1,color='k'); \n",
    "ax.scatter(gmean,logumi,color='pink',s=5);\n",
    "ax.set_ylabel('Fit parameter for log(library sizes)')\n",
    "ax.set_xscale('log')\n",
    "\n",
    "ax=axs[2]\n",
    "ax.scatter(gmean1,np.log(theta1),color='k'); \n",
    "ax.scatter(gmean,np.log(theta),color='pink',s=5);\n",
    "ax.set_xlabel('Gene geometric means')\n",
    "ax.set_ylabel('log(theta)')\n",
    "ax.set_xscale('log')\n",
    "fig.tight_layout()"
   ]
  }
 ],
 "metadata": {
  "kernelspec": {
   "display_name": "Python 3",
   "language": "python",
   "name": "python3"
  },
  "language_info": {
   "codemirror_mode": {
    "name": "ipython",
    "version": 3
   },
   "file_extension": ".py",
   "mimetype": "text/x-python",
   "name": "python",
   "nbconvert_exporter": "python",
   "pygments_lexer": "ipython3",
   "version": "3.8.5"
  }
 },
 "nbformat": 4,
 "nbformat_minor": 5
}
